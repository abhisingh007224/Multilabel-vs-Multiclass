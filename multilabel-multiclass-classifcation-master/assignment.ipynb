{
 "cells": [
  {
   "cell_type": "markdown",
   "metadata": {},
   "source": [
    "# PFA dataset Classifier\n",
    "\n",
    "Objective: Build classifiers for severity, category and classification given that we have utterances."
   ]
  },
  {
   "cell_type": "code",
   "execution_count": 1,
   "metadata": {},
   "outputs": [
    {
     "name": "stderr",
     "output_type": "stream",
     "text": [
      "/home/mukesh/miniconda3/envs/statoil/lib/python3.6/site-packages/h5py/__init__.py:36: FutureWarning: Conversion of the second argument of issubdtype from `float` to `np.floating` is deprecated. In future, it will be treated as `np.float64 == np.dtype(float).type`.\n",
      "  from ._conv import register_converters as _register_converters\n",
      "Using TensorFlow backend.\n"
     ]
    }
   ],
   "source": [
    "import enchant\n",
    "import pandas as pd\n",
    "import numpy as np\n",
    "from sklearn.model_selection import train_test_split\n",
    "from sklearn.preprocessing import LabelEncoder\n",
    "import matplotlib.pyplot as plt\n",
    "from collections import Counter\n",
    "import re\n",
    "\n",
    "from nltk.corpus import stopwords\n",
    "from nltk.stem import SnowballStemmer\n",
    "from string import punctuation\n",
    "\n",
    "from keras.preprocessing.text import Tokenizer\n",
    "from keras.preprocessing.sequence import pad_sequences\n",
    "from keras.layers import Dense, Input, CuDNNLSTM,GlobalMaxPool1D, Embedding, Dropout, Activation, SpatialDropout1D, Bidirectional\n",
    "from keras.layers.merge import concatenate\n",
    "from keras.models import Model\n",
    "from keras.layers.normalization import BatchNormalization\n",
    "from keras.callbacks import EarlyStopping, ModelCheckpoint,ReduceLROnPlateau\n",
    "from keras.optimizers import RMSprop, nadam, adam\n",
    "from keras.utils import np_utils\n",
    "\n",
    "%matplotlib inline"
   ]
  },
  {
   "cell_type": "markdown",
   "metadata": {},
   "source": [
    "# Loading Dataset\n"
   ]
  },
  {
   "cell_type": "code",
   "execution_count": 2,
   "metadata": {},
   "outputs": [],
   "source": [
    "path='data/'\n",
    "train=path+'train_CD.csv'\n",
    "\n",
    "embedding_file=path+'wiki.en.vec' #fasttext word embeddings\n",
    "max_words=100000\n",
    "max_seq_len=60\n",
    "embedding_dim=300\n",
    "\n",
    "num_gru = 128\n",
    "num_dense = 64\n",
    "rate_drop_dense = 0.3"
   ]
  },
  {
   "cell_type": "code",
   "execution_count": 3,
   "metadata": {},
   "outputs": [
    {
     "name": "stderr",
     "output_type": "stream",
     "text": [
      "/home/mukesh/miniconda3/envs/statoil/lib/python3.6/site-packages/IPython/core/interactiveshell.py:2728: DtypeWarning: Columns (3) have mixed types. Specify dtype option on import or set low_memory=False.\n",
      "  interactivity=interactivity, compiler=compiler, result=result)\n"
     ]
    },
    {
     "data": {
      "text/html": [
       "<div>\n",
       "<style scoped>\n",
       "    .dataframe tbody tr th:only-of-type {\n",
       "        vertical-align: middle;\n",
       "    }\n",
       "\n",
       "    .dataframe tbody tr th {\n",
       "        vertical-align: top;\n",
       "    }\n",
       "\n",
       "    .dataframe thead th {\n",
       "        text-align: right;\n",
       "    }\n",
       "</style>\n",
       "<table border=\"1\" class=\"dataframe\">\n",
       "  <thead>\n",
       "    <tr style=\"text-align: right;\">\n",
       "      <th></th>\n",
       "      <th>Description</th>\n",
       "      <th>Classification</th>\n",
       "      <th>Category</th>\n",
       "      <th>Severity</th>\n",
       "    </tr>\n",
       "  </thead>\n",
       "  <tbody>\n",
       "    <tr>\n",
       "      <th>0</th>\n",
       "      <td>** PROBLEM Service Alert: USSGWIFIMGMT001/USDA...</td>\n",
       "      <td>8.0</td>\n",
       "      <td>1,225</td>\n",
       "      <td>3</td>\n",
       "    </tr>\n",
       "    <tr>\n",
       "      <th>1</th>\n",
       "      <td>Please Collect ID Card/Access Card for - Rachn...</td>\n",
       "      <td>1.0</td>\n",
       "      <td>1,451</td>\n",
       "      <td>NaN</td>\n",
       "    </tr>\n",
       "    <tr>\n",
       "      <th>2</th>\n",
       "      <td>Install 32-bit TortoiseSVN on my machine</td>\n",
       "      <td>1.0</td>\n",
       "      <td>970</td>\n",
       "      <td>4</td>\n",
       "    </tr>\n",
       "    <tr>\n",
       "      <th>3</th>\n",
       "      <td>Tubelight above the cubical is not working. Pl...</td>\n",
       "      <td>10.0</td>\n",
       "      <td>174</td>\n",
       "      <td>12</td>\n",
       "    </tr>\n",
       "    <tr>\n",
       "      <th>4</th>\n",
       "      <td>Require Toner</td>\n",
       "      <td>1.0</td>\n",
       "      <td>920</td>\n",
       "      <td>4</td>\n",
       "    </tr>\n",
       "  </tbody>\n",
       "</table>\n",
       "</div>"
      ],
      "text/plain": [
       "                                         Description  Classification Category  \\\n",
       "0  ** PROBLEM Service Alert: USSGWIFIMGMT001/USDA...             8.0    1,225   \n",
       "1  Please Collect ID Card/Access Card for - Rachn...             1.0    1,451   \n",
       "2           Install 32-bit TortoiseSVN on my machine             1.0      970   \n",
       "3  Tubelight above the cubical is not working. Pl...            10.0      174   \n",
       "4                                      Require Toner             1.0      920   \n",
       "\n",
       "  Severity  \n",
       "0        3  \n",
       "1      NaN  \n",
       "2        4  \n",
       "3       12  \n",
       "4        4  "
      ]
     },
     "execution_count": 3,
     "metadata": {},
     "output_type": "execute_result"
    }
   ],
   "source": [
    "data=pd.read_csv(train)\n",
    "data.head()"
   ]
  },
  {
   "cell_type": "code",
   "execution_count": 4,
   "metadata": {},
   "outputs": [
    {
     "data": {
      "text/plain": [
       "263394"
      ]
     },
     "execution_count": 4,
     "metadata": {},
     "output_type": "execute_result"
    }
   ],
   "source": [
    "len(data)"
   ]
  },
  {
   "cell_type": "code",
   "execution_count": 5,
   "metadata": {},
   "outputs": [
    {
     "name": "stdout",
     "output_type": "stream",
     "text": [
      "Null values\n"
     ]
    },
    {
     "data": {
      "text/plain": [
       "Description         85\n",
       "Classification     672\n",
       "Category           655\n",
       "Severity          2320\n",
       "dtype: int64"
      ]
     },
     "execution_count": 5,
     "metadata": {},
     "output_type": "execute_result"
    }
   ],
   "source": [
    "print(\"Null values\")\n",
    "data.isnull().sum()"
   ]
  },
  {
   "cell_type": "code",
   "execution_count": 6,
   "metadata": {},
   "outputs": [
    {
     "data": {
      "text/plain": [
       "260910"
      ]
     },
     "execution_count": 6,
     "metadata": {},
     "output_type": "execute_result"
    }
   ],
   "source": [
    "data=data.dropna()\n",
    "len(data)"
   ]
  },
  {
   "cell_type": "code",
   "execution_count": 7,
   "metadata": {},
   "outputs": [
    {
     "data": {
      "text/plain": [
       "count    260910.000000\n",
       "mean         36.381315\n",
       "std          47.741645\n",
       "min           1.000000\n",
       "25%           1.000000\n",
       "50%           8.000000\n",
       "75%         109.000000\n",
       "max         173.000000\n",
       "Name: Classification, dtype: float64"
      ]
     },
     "execution_count": 7,
     "metadata": {},
     "output_type": "execute_result"
    }
   ],
   "source": [
    "data[\"Classification\"].describe()"
   ]
  },
  {
   "cell_type": "code",
   "execution_count": 8,
   "metadata": {},
   "outputs": [
    {
     "data": {
      "text/plain": [
       "count     260910\n",
       "unique       719\n",
       "top        1,148\n",
       "freq       18104\n",
       "Name: Category, dtype: object"
      ]
     },
     "execution_count": 8,
     "metadata": {},
     "output_type": "execute_result"
    }
   ],
   "source": [
    "data[\"Category\"].describe()"
   ]
  },
  {
   "cell_type": "code",
   "execution_count": 9,
   "metadata": {},
   "outputs": [
    {
     "data": {
      "text/plain": [
       "count     260910\n",
       "unique        45\n",
       "top            4\n",
       "freq      117673\n",
       "Name: Severity, dtype: object"
      ]
     },
     "execution_count": 9,
     "metadata": {},
     "output_type": "execute_result"
    }
   ],
   "source": [
    "data[\"Severity\"].describe()"
   ]
  },
  {
   "cell_type": "code",
   "execution_count": 10,
   "metadata": {},
   "outputs": [],
   "source": [
    "# There are few values in classification column having commas e.g 1,234\n",
    "# we need to convert it to int or float\n",
    "def remove_comma(arr):\n",
    "    new_arr=[]\n",
    "    for p in arr:\n",
    "        try:\n",
    "            q=p.split(',')\n",
    "            #print(q)\n",
    "            q=''.join(q)\n",
    "            new_arr.append(q)\n",
    "        except:\n",
    "            new_arr.append(p)\n",
    "    return new_arr"
   ]
  },
  {
   "cell_type": "code",
   "execution_count": 11,
   "metadata": {},
   "outputs": [],
   "source": [
    "data[\"Category\"]=remove_comma(data[\"Category\"].values)\n",
    "data[\"Severity\"]=remove_comma(data[\"Severity\"].values)"
   ]
  },
  {
   "cell_type": "code",
   "execution_count": 12,
   "metadata": {},
   "outputs": [],
   "source": [
    "data[\"Severity\"]=data[\"Severity\"].astype(np.float64)\n",
    "data[\"Category\"]=data[\"Category\"].astype(np.float64)"
   ]
  },
  {
   "cell_type": "code",
   "execution_count": 13,
   "metadata": {},
   "outputs": [
    {
     "data": {
      "text/html": [
       "<div>\n",
       "<style scoped>\n",
       "    .dataframe tbody tr th:only-of-type {\n",
       "        vertical-align: middle;\n",
       "    }\n",
       "\n",
       "    .dataframe tbody tr th {\n",
       "        vertical-align: top;\n",
       "    }\n",
       "\n",
       "    .dataframe thead th {\n",
       "        text-align: right;\n",
       "    }\n",
       "</style>\n",
       "<table border=\"1\" class=\"dataframe\">\n",
       "  <thead>\n",
       "    <tr style=\"text-align: right;\">\n",
       "      <th></th>\n",
       "      <th>Classification</th>\n",
       "      <th>Category</th>\n",
       "      <th>Severity</th>\n",
       "    </tr>\n",
       "  </thead>\n",
       "  <tbody>\n",
       "    <tr>\n",
       "      <th>count</th>\n",
       "      <td>260910.000000</td>\n",
       "      <td>260910.000000</td>\n",
       "      <td>260910.000000</td>\n",
       "    </tr>\n",
       "    <tr>\n",
       "      <th>mean</th>\n",
       "      <td>36.381315</td>\n",
       "      <td>768.815948</td>\n",
       "      <td>5.141681</td>\n",
       "    </tr>\n",
       "    <tr>\n",
       "      <th>std</th>\n",
       "      <td>47.741645</td>\n",
       "      <td>416.174000</td>\n",
       "      <td>5.639528</td>\n",
       "    </tr>\n",
       "    <tr>\n",
       "      <th>min</th>\n",
       "      <td>1.000000</td>\n",
       "      <td>1.000000</td>\n",
       "      <td>1.000000</td>\n",
       "    </tr>\n",
       "    <tr>\n",
       "      <th>25%</th>\n",
       "      <td>1.000000</td>\n",
       "      <td>323.000000</td>\n",
       "      <td>3.000000</td>\n",
       "    </tr>\n",
       "    <tr>\n",
       "      <th>50%</th>\n",
       "      <td>8.000000</td>\n",
       "      <td>926.000000</td>\n",
       "      <td>4.000000</td>\n",
       "    </tr>\n",
       "    <tr>\n",
       "      <th>75%</th>\n",
       "      <td>109.000000</td>\n",
       "      <td>1083.000000</td>\n",
       "      <td>4.000000</td>\n",
       "    </tr>\n",
       "    <tr>\n",
       "      <th>max</th>\n",
       "      <td>173.000000</td>\n",
       "      <td>2466.000000</td>\n",
       "      <td>1095.000000</td>\n",
       "    </tr>\n",
       "  </tbody>\n",
       "</table>\n",
       "</div>"
      ],
      "text/plain": [
       "       Classification       Category       Severity\n",
       "count   260910.000000  260910.000000  260910.000000\n",
       "mean        36.381315     768.815948       5.141681\n",
       "std         47.741645     416.174000       5.639528\n",
       "min          1.000000       1.000000       1.000000\n",
       "25%          1.000000     323.000000       3.000000\n",
       "50%          8.000000     926.000000       4.000000\n",
       "75%        109.000000    1083.000000       4.000000\n",
       "max        173.000000    2466.000000    1095.000000"
      ]
     },
     "execution_count": 13,
     "metadata": {},
     "output_type": "execute_result"
    }
   ],
   "source": [
    "data.describe()"
   ]
  },
  {
   "cell_type": "code",
   "execution_count": 14,
   "metadata": {},
   "outputs": [
    {
     "data": {
      "text/plain": [
       "(46.98753976466981, 28.361221781943883, 270)"
      ]
     },
     "execution_count": 14,
     "metadata": {},
     "output_type": "execute_result"
    }
   ],
   "source": [
    "lens=data.Description.str.len()\n",
    "lens.mean(), lens.std(), lens.max()"
   ]
  },
  {
   "cell_type": "code",
   "execution_count": 15,
   "metadata": {},
   "outputs": [
    {
     "data": {
      "text/plain": [
       "<matplotlib.axes._subplots.AxesSubplot at 0x7f5acc3c4ba8>"
      ]
     },
     "execution_count": 15,
     "metadata": {},
     "output_type": "execute_result"
    },
    {
     "data": {
      "image/png": "[encoded data removed]",
      "text/plain": [
       "<matplotlib.figure.Figure at 0x7f5acc39a908>"
      ]
     },
     "metadata": {},
     "output_type": "display_data"
    }
   ],
   "source": [
    "lens.hist()"
   ]
  },
  {
   "cell_type": "code",
   "execution_count": 16,
   "metadata": {},
   "outputs": [
    {
     "data": {
      "text/plain": [
       "count    260910.000000\n",
       "mean         46.987540\n",
       "std          28.361222\n",
       "min           1.000000\n",
       "25%          29.000000\n",
       "50%          40.000000\n",
       "75%          62.000000\n",
       "max         270.000000\n",
       "Name: Description, dtype: float64"
      ]
     },
     "execution_count": 16,
     "metadata": {},
     "output_type": "execute_result"
    }
   ],
   "source": [
    "lens.describe()"
   ]
  },
  {
   "cell_type": "code",
   "execution_count": 17,
   "metadata": {},
   "outputs": [
    {
     "data": {
      "text/plain": [
       "<Container object of 65 artists>"
      ]
     },
     "execution_count": 17,
     "metadata": {},
     "output_type": "execute_result"
    },
    {
     "data": {
      "image/png": "[encoded data removed]",
      "text/plain": [
       "<matplotlib.figure.Figure at 0x7f5acc3613c8>"
      ]
     },
     "metadata": {},
     "output_type": "display_data"
    }
   ],
   "source": [
    "classi = Counter(data['Classification'])\n",
    "plt.bar(classi.keys(),classi.values())"
   ]
  },
  {
   "cell_type": "code",
   "execution_count": 18,
   "metadata": {},
   "outputs": [
    {
     "data": {
      "text/plain": [
       "<Container object of 719 artists>"
      ]
     },
     "execution_count": 18,
     "metadata": {},
     "output_type": "execute_result"
    },
    {
     "data": {
      "image/png": "[encoded data removed]",
      "text/plain": [
       "<matplotlib.figure.Figure at 0x7f5acc2f50b8>"
      ]
     },
     "metadata": {},
     "output_type": "display_data"
    }
   ],
   "source": [
    "cat = Counter(data['Category'])\n",
    "plt.bar(cat.keys(),cat.values())"
   ]
  },
  {
   "cell_type": "code",
   "execution_count": 19,
   "metadata": {},
   "outputs": [
    {
     "name": "stdout",
     "output_type": "stream",
     "text": [
      "classification labels  65\n",
      "category labels  719\n"
     ]
    }
   ],
   "source": [
    "list_classes=['Classification','Category','Severity']\n",
    "nb_classification_label = len(set(data['Classification']))\n",
    "nb_category_label = len(set(data['Category']))\n",
    "\n",
    "print(\"classification labels \", nb_classification_label)\n",
    "print(\"category labels \", nb_category_label)"
   ]
  },
  {
   "cell_type": "markdown",
   "metadata": {},
   "source": [
    "# Few insights from the dataset\n",
    "The dataset contains 4 columns:\n",
    "\n",
    "Description: contains text/complaints. Length varies from 1 to 270\n",
    "\n",
    "Classification: It has 65 different labels\n",
    "\n",
    "Category: There are 719 categories\n",
    "\n",
    "Severity: This column contains continuous values, denoting the severity of issue mentioned in description"
   ]
  },
  {
   "cell_type": "code",
   "execution_count": 20,
   "metadata": {},
   "outputs": [
    {
     "name": "stdout",
     "output_type": "stream",
     "text": [
      "train (208728,) (208728, 3)\n",
      "test (52182,) (52182, 3)\n"
     ]
    }
   ],
   "source": [
    "#Splitting the dataset\n",
    "train_x, test_x, train_y, test_y = train_test_split(data['Description'],data[list_classes], test_size=0.2, random_state=2)\n",
    "print(\"train\", train_x.shape, train_y.shape)\n",
    "print(\"test\", test_x.shape, test_y.shape)"
   ]
  },
  {
   "cell_type": "code",
   "execution_count": 21,
   "metadata": {},
   "outputs": [
    {
     "name": "stdout",
     "output_type": "stream",
     "text": [
      "Indexing word vectors\n",
      "Total 2518927 word vectors.\n"
     ]
    }
   ],
   "source": [
    "print('Indexing word vectors')\n",
    "\n",
    "#Glove Vectors\n",
    "embeddings_index = {}\n",
    "f = open(embedding_file)\n",
    "for line in f:\n",
    "    values = line.split()\n",
    "    word = ' '.join(values[:-300])\n",
    "    coefs = np.asarray(values[-300:], dtype='float32')\n",
    "    embeddings_index[word] = coefs\n",
    "f.close()\n",
    "\n",
    "print('Total %s word vectors.' % len(embeddings_index))"
   ]
  },
  {
   "cell_type": "code",
   "execution_count": 22,
   "metadata": {},
   "outputs": [],
   "source": [
    "class SpellingReplacer(object):\n",
    "    def __init__(self, dict_name='en', max_dist=2):\n",
    "        self.spell_dict = enchant.Dict(dict_name)\n",
    "        self.max_dist = max_dist\n",
    "    def replace(self, word):\n",
    "        if self.spell_dict.check(word):\n",
    "            return word\n",
    "        suggestions = self.spell_dict.suggest(word)\n",
    "        if suggestions and edit_distance(word, suggestions[0]) <=self.max_dist:\n",
    "            return suggestions[0]\n",
    "        else:\n",
    "            return word"
   ]
  },
  {
   "cell_type": "code",
   "execution_count": 23,
   "metadata": {},
   "outputs": [
    {
     "name": "stdout",
     "output_type": "stream",
     "text": [
      "Processing text dataset\n"
     ]
    }
   ],
   "source": [
    "print('Processing text dataset')\n",
    "\n",
    "#Regex to remove all Non-Alpha Numeric and space\n",
    "special_character_removal=re.compile(r'[^a-z\\d ]',re.IGNORECASE)\n",
    "\n",
    "#regex to replace all numerics\n",
    "replace_numbers=re.compile(r'\\d+',re.IGNORECASE)\n",
    "\n",
    "#regex to replace ip address\n",
    "replace_ip=re.compile(r'([0-9]+)(?:\\.[0-9]+){3}',)\n",
    "\n",
    "#replace_url\n",
    "url_regex = re.compile(r\"(http|https|ftp)://[a-zA-Z0-9\\./]+\")\n",
    "\n",
    "def text_to_wordlist(text, remove_stopwords=True, stem_words=False, spell_correct=False):\n",
    "    # Clean the text, with the option to remove stopwords and to stem words.\n",
    "    \n",
    "    #remove urls\n",
    "    text=url_regex.sub(\"\",text)\n",
    "    \n",
    "    # Convert words to lower case and split them\n",
    "    text = text.lower().split()\n",
    "    \n",
    "    \n",
    "    # Optionally, remove stop words\n",
    "    if remove_stopwords:\n",
    "        stops = set(stopwords.words(\"english\"))\n",
    "        text = [w for w in text if not w in stops]\n",
    "    \n",
    "    #Optionally, correct misspelled words, It takes lots of time\n",
    "    replacer = SpellingReplacer()\n",
    "    if spell_correct:\n",
    "        text=[replacer.replace(w) if w not in embeddings_index.keys() else w for w in text]\n",
    "        \n",
    "    text = \" \".join(text)\n",
    "    \n",
    "    #Replace IP address\n",
    "    text=replace_ip.sub('',text)\n",
    "    \n",
    "    #Remove Special Characters\n",
    "    text=special_character_removal.sub(' ',text)\n",
    "    \n",
    "    \n",
    "    #Replace Numbers\n",
    "    text=replace_numbers.sub('',text)\n",
    "    \n",
    "    \n",
    "    # Optionally, shorten words to their stems\n",
    "    if stem_words:\n",
    "        text = text.split()\n",
    "        stemmer = SnowballStemmer('english')\n",
    "        stemmed_words = [stemmer.stem(word) for word in text]\n",
    "        text = \" \".join(stemmed_words)\n",
    "    \n",
    "    # Return a list of words\n",
    "    return(text)"
   ]
  },
  {
   "cell_type": "code",
   "execution_count": 24,
   "metadata": {},
   "outputs": [
    {
     "name": "stdout",
     "output_type": "stream",
     "text": [
      "Found 31295 unique tokens\n"
     ]
    }
   ],
   "source": [
    "description = []\n",
    "for text in train_x:\n",
    "    description.append(text_to_wordlist(text))\n",
    "    \n",
    "test_description=[]\n",
    "for text in test_x:\n",
    "    test_description.append(text_to_wordlist(text))\n",
    "\n",
    "tokenizer = Tokenizer(num_words=max_words)\n",
    "tokenizer.fit_on_texts(description+test_description)\n",
    "\n",
    "sequences = tokenizer.texts_to_sequences(description)\n",
    "test_sequences = tokenizer.texts_to_sequences(test_description)\n",
    "\n",
    "word_index = tokenizer.word_index\n",
    "print('Found %s unique tokens' % len(word_index))"
   ]
  },
  {
   "cell_type": "code",
   "execution_count": 25,
   "metadata": {},
   "outputs": [
    {
     "name": "stdout",
     "output_type": "stream",
     "text": [
      "Shape of data tensor: (208728, 60)\n",
      "Shape of label tensor: (208728, 3)\n",
      "Shape of test_data tensor: (52182, 60)\n",
      "Shape of label tensor: (52182, 3)\n"
     ]
    }
   ],
   "source": [
    "train_x = pad_sequences(sequences, maxlen=max_seq_len)\n",
    "test_x = pad_sequences(test_sequences, maxlen=max_seq_len)\n",
    "\n",
    "print('Shape of data tensor:', train_x.shape)\n",
    "print('Shape of label tensor:', train_y.shape)\n",
    "\n",
    "print('Shape of test_data tensor:', test_x.shape)\n",
    "print('Shape of label tensor:', test_y.shape)"
   ]
  },
  {
   "cell_type": "markdown",
   "metadata": {},
   "source": [
    "As we have diffent types of predictions: \n",
    "1. Categorical: a) Classification b) Category\n",
    "2. Continuous: a) Severity\n",
    "\n",
    "We need two type of model for this, one for regression and one for classification\n",
    "\n",
    "Also in categorical both `Classification` and `Category` has different number of labels, so we need to train them separately.\n",
    "\n",
    "First, We need to Encode these labels and then convert it to one hot encodings."
   ]
  },
  {
   "cell_type": "code",
   "execution_count": 26,
   "metadata": {},
   "outputs": [],
   "source": [
    "def to_OHE(label,nb_classes):\n",
    "    L_enc = LabelEncoder()\n",
    "    L_enc.fit(label)\n",
    "    return np_utils.to_categorical(L_enc.transform(label), nb_classes)\n",
    "\n",
    "def inverse_OHE(label,encoded_labels,nb_classes):\n",
    "    decoded=encoded_labels.argmax(1)\n",
    "    L_enc = LabelEncoder()\n",
    "    L_enc.fit(label)\n",
    "    return L_enc.inverse_transform(decoded)"
   ]
  },
  {
   "cell_type": "code",
   "execution_count": 27,
   "metadata": {},
   "outputs": [],
   "source": [
    "# convert class vectors to binary class matrices\n",
    "train_classify = to_OHE(train_y['Classification'], nb_classification_label)\n",
    "train_category = to_OHE(train_y['Category'], nb_category_label)\n",
    "train_severity = train_y['Severity']\n",
    "\n",
    "test_classify = to_OHE(test_y['Classification'], nb_classification_label)\n",
    "test_category = to_OHE(test_y['Category'], nb_category_label)\n",
    "test_severity = test_y['Severity']"
   ]
  },
  {
   "cell_type": "code",
   "execution_count": 28,
   "metadata": {},
   "outputs": [
    {
     "name": "stdout",
     "output_type": "stream",
     "text": [
      "Preparing embedding matrix\n",
      "Null word embeddings: 1\n"
     ]
    }
   ],
   "source": [
    "from numpy.random import normal\n",
    "print('Preparing embedding matrix')\n",
    "nb_words = min(max_words, len(word_index))\n",
    "embedding_matrix = np.zeros((nb_words, embedding_dim))\n",
    "for word, i in word_index.items():\n",
    "    if i >= max_words:\n",
    "        continue\n",
    "    embedding_vector = embeddings_index.get(word)\n",
    "    if embedding_vector is not None:\n",
    "        # words not found in embedding index will be all-zeros.\n",
    "        try:\n",
    "            embedding_matrix[i] = embedding_vector\n",
    "        except:\n",
    "            continue\n",
    "    else:\n",
    "        try:\n",
    "            embedding_matrix[i] = normal(scale=0.6, size=(embedding_dim,))\n",
    "        except:\n",
    "            continue\n",
    "        \n",
    "print('Null word embeddings: %d' % np.sum(np.sum(embedding_matrix, axis=1) == 0))"
   ]
  },
  {
   "cell_type": "markdown",
   "metadata": {},
   "source": [
    "# Creating Model"
   ]
  },
  {
   "cell_type": "code",
   "execution_count": 29,
   "metadata": {},
   "outputs": [],
   "source": [
    "def regression_model():\n",
    "    embedding_layer = Embedding(nb_words,\n",
    "        embedding_dim,\n",
    "        weights=[embedding_matrix],\n",
    "        input_length=max_seq_len,\n",
    "        trainable=False)\n",
    "\n",
    "\n",
    "    descriptions = Input(shape=(max_seq_len,), dtype='int32')\n",
    "    \n",
    "    embedded_sequences= embedding_layer(descriptions)\n",
    "    embedded_sequences = BatchNormalization()(embedded_sequences)\n",
    "    embedded_sequences = SpatialDropout1D(0.2)(embedded_sequences)\n",
    "    \n",
    "    x = Bidirectional(CuDNNLSTM(num_gru, return_sequences=True,kernel_initializer='glorot_uniform'))(embedded_sequences)\n",
    "    x = Bidirectional(CuDNNLSTM(num_gru, return_sequences=True,kernel_initializer='glorot_uniform'))(x)\n",
    "    x = GlobalMaxPool1D()(x)\n",
    "    x = Dropout(rate_drop_dense)(x)\n",
    "    \n",
    "    x = Dense(num_dense, activation='relu')(x)\n",
    "    x = Dropout(rate_drop_dense)(x)\n",
    "    \n",
    "    x = Dense(num_dense, activation='relu')(x)\n",
    "    x = Dropout(rate_drop_dense)(x)\n",
    "    \n",
    "    preds = Dense(1,activation='relu')(x)\n",
    "    \n",
    "    model = Model(inputs=descriptions,outputs=preds)\n",
    "    model.compile(loss='mean_absolute_error',optimizer=nadam(lr=0.001),metrics=['accuracy'])\n",
    "    \n",
    "    return model\n",
    "\n",
    "def classification_model(nb_classes):\n",
    "    embedding_layer = Embedding(nb_words,\n",
    "        embedding_dim,\n",
    "        weights=[embedding_matrix],\n",
    "        input_length=max_seq_len,\n",
    "        trainable=False)\n",
    "\n",
    "    descriptions = Input(shape=(max_seq_len,), dtype='int32')\n",
    "    \n",
    "    embedded_sequences= embedding_layer(descriptions)\n",
    "    embedded_sequences = BatchNormalization()(embedded_sequences)\n",
    "    embedded_sequences = SpatialDropout1D(0.3)(embedded_sequences)\n",
    "    \n",
    "    x = Bidirectional(CuDNNLSTM(64, return_sequences=True,kernel_initializer='glorot_uniform'))(embedded_sequences)\n",
    "    x = GlobalMaxPool1D()(x)\n",
    "    x = Dropout(rate_drop_dense)(x)\n",
    "    \n",
    "    x = Dense(32, activation='relu')(x)\n",
    "    x = Dropout(rate_drop_dense)(x)\n",
    "    \n",
    "    preds = Dense(nb_classes,activation='sigmoid')(x)\n",
    "    \n",
    "    model = Model(inputs=descriptions,outputs=preds)\n",
    "    model.compile(loss='binary_crossentropy',optimizer=nadam(lr=0.001),metrics=['accuracy'])\n",
    "    \n",
    "    return model"
   ]
  },
  {
   "cell_type": "markdown",
   "metadata": {},
   "source": [
    "# Training and Testing"
   ]
  },
  {
   "cell_type": "code",
   "execution_count": 30,
   "metadata": {
    "scrolled": true
   },
   "outputs": [
    {
     "name": "stdout",
     "output_type": "stream",
     "text": [
      "Train on 166982 samples, validate on 41746 samples\n",
      "Epoch 1/100\n",
      "166982/166982 [==============================] - 75s 451us/step - loss: 1.4861 - acc: 0.4293 - val_loss: 0.9132 - val_acc: 0.7387\n",
      "Epoch 2/100\n",
      "166982/166982 [==============================] - 74s 446us/step - loss: 1.1934 - acc: 0.5507 - val_loss: 0.9724 - val_acc: 0.7302\n",
      "Epoch 3/100\n",
      "166982/166982 [==============================] - 74s 440us/step - loss: 1.1039 - acc: 0.6285 - val_loss: 0.8590 - val_acc: 0.7379\n",
      "Epoch 4/100\n",
      "166982/166982 [==============================] - 74s 442us/step - loss: 1.0466 - acc: 0.6683 - val_loss: 0.7955 - val_acc: 0.7585\n",
      "Epoch 5/100\n",
      "166982/166982 [==============================] - 74s 444us/step - loss: 1.0066 - acc: 0.6925 - val_loss: 0.8707 - val_acc: 0.7302\n",
      "Epoch 6/100\n",
      "166982/166982 [==============================] - 75s 447us/step - loss: 0.9634 - acc: 0.7152 - val_loss: 0.7782 - val_acc: 0.7808\n",
      "Epoch 7/100\n",
      "166982/166982 [==============================] - 75s 448us/step - loss: 0.9487 - acc: 0.7280 - val_loss: 0.8001 - val_acc: 0.7591\n",
      "Epoch 8/100\n",
      "166982/166982 [==============================] - 75s 451us/step - loss: 0.9033 - acc: 0.7347 - val_loss: 0.7701 - val_acc: 0.7853\n",
      "Epoch 9/100\n",
      "166982/166982 [==============================] - 75s 452us/step - loss: 0.8653 - acc: 0.7449 - val_loss: 0.7043 - val_acc: 0.7915\n",
      "Epoch 10/100\n",
      "166982/166982 [==============================] - 75s 451us/step - loss: 0.8260 - acc: 0.7493 - val_loss: 0.7051 - val_acc: 0.7911\n",
      "Epoch 11/100\n",
      "166982/166982 [==============================] - 75s 449us/step - loss: 0.8302 - acc: 0.7483 - val_loss: 0.7202 - val_acc: 0.7822\n",
      "Epoch 12/100\n",
      "166982/166982 [==============================] - 75s 450us/step - loss: 0.8126 - acc: 0.7506 - val_loss: 0.6879 - val_acc: 0.8000\n",
      "Epoch 13/100\n",
      "166982/166982 [==============================] - 75s 451us/step - loss: 0.7991 - acc: 0.7523 - val_loss: 0.6981 - val_acc: 0.7719\n",
      "Epoch 14/100\n",
      "166982/166982 [==============================] - 75s 451us/step - loss: 0.7861 - acc: 0.7531 - val_loss: 0.7012 - val_acc: 0.7965\n",
      "Epoch 15/100\n",
      "166982/166982 [==============================] - 75s 451us/step - loss: 0.7852 - acc: 0.7541 - val_loss: 0.7166 - val_acc: 0.7731\n",
      "Epoch 16/100\n",
      "166982/166982 [==============================] - 75s 451us/step - loss: 0.7893 - acc: 0.7543 - val_loss: 0.7412 - val_acc: 0.7465\n",
      "Epoch 17/100\n",
      "166982/166982 [==============================] - 75s 452us/step - loss: 0.7782 - acc: 0.7553 - val_loss: 0.6878 - val_acc: 0.7992\n",
      "Epoch 18/100\n",
      "166982/166982 [==============================] - 75s 451us/step - loss: 0.7721 - acc: 0.7565 - val_loss: 0.6952 - val_acc: 0.7979\n",
      "Epoch 19/100\n",
      "166982/166982 [==============================] - 76s 456us/step - loss: 0.7764 - acc: 0.7568 - val_loss: 0.6804 - val_acc: 0.8015\n",
      "Epoch 20/100\n",
      "166982/166982 [==============================] - 76s 455us/step - loss: 0.7732 - acc: 0.7567 - val_loss: 0.7101 - val_acc: 0.7587\n",
      "Epoch 21/100\n",
      "166982/166982 [==============================] - 76s 452us/step - loss: 0.7733 - acc: 0.7577 - val_loss: 0.7162 - val_acc: 0.7851\n",
      "Epoch 22/100\n",
      "166982/166982 [==============================] - 76s 453us/step - loss: 0.7627 - acc: 0.7584 - val_loss: 0.6939 - val_acc: 0.7915\n",
      "Epoch 23/100\n",
      "166982/166982 [==============================] - 76s 455us/step - loss: 0.7599 - acc: 0.7593 - val_loss: 0.6785 - val_acc: 0.7921\n",
      "Epoch 24/100\n",
      "166982/166982 [==============================] - 75s 451us/step - loss: 0.7638 - acc: 0.7579 - val_loss: 0.7013 - val_acc: 0.7713\n",
      "Epoch 25/100\n",
      "166982/166982 [==============================] - 75s 451us/step - loss: 0.7677 - acc: 0.7582 - val_loss: 0.6844 - val_acc: 0.8025\n",
      "Epoch 26/100\n",
      "166982/166982 [==============================] - 75s 449us/step - loss: 0.7588 - acc: 0.7591 - val_loss: 0.6960 - val_acc: 0.7945\n",
      "Epoch 27/100\n",
      "166982/166982 [==============================] - 75s 450us/step - loss: 0.7600 - acc: 0.7597 - val_loss: 0.6728 - val_acc: 0.8080\n",
      "Epoch 28/100\n",
      "166982/166982 [==============================] - 75s 449us/step - loss: 0.7522 - acc: 0.7602 - val_loss: 0.6850 - val_acc: 0.8027\n",
      "Epoch 29/100\n",
      "166982/166982 [==============================] - 75s 451us/step - loss: 0.7519 - acc: 0.7601 - val_loss: 0.6700 - val_acc: 0.8061\n",
      "Epoch 30/100\n",
      "166982/166982 [==============================] - 76s 454us/step - loss: 0.7524 - acc: 0.7609 - val_loss: 0.6760 - val_acc: 0.8056\n",
      "Epoch 31/100\n",
      "166982/166982 [==============================] - 76s 456us/step - loss: 0.7473 - acc: 0.7603 - val_loss: 0.6828 - val_acc: 0.7965\n",
      "Epoch 32/100\n",
      "166982/166982 [==============================] - 76s 456us/step - loss: 0.7502 - acc: 0.7603 - val_loss: 0.6750 - val_acc: 0.8029\n",
      "Epoch 33/100\n",
      "166982/166982 [==============================] - 76s 454us/step - loss: 0.7467 - acc: 0.7617 - val_loss: 0.6756 - val_acc: 0.7990\n",
      "Epoch 34/100\n",
      "166982/166982 [==============================] - 75s 451us/step - loss: 0.7462 - acc: 0.7613 - val_loss: 0.6955 - val_acc: 0.7916\n",
      "Epoch 35/100\n",
      "166982/166982 [==============================] - 75s 448us/step - loss: 0.7463 - acc: 0.7609 - val_loss: 0.7021 - val_acc: 0.7806\n",
      "Epoch 36/100\n",
      "166982/166982 [==============================] - 75s 451us/step - loss: 0.7488 - acc: 0.7605 - val_loss: 0.6710 - val_acc: 0.8028\n",
      "Epoch 37/100\n",
      "166982/166982 [==============================] - 75s 451us/step - loss: 0.7517 - acc: 0.7620 - val_loss: 0.6986 - val_acc: 0.7751\n",
      "Epoch 38/100\n",
      "166982/166982 [==============================] - 75s 451us/step - loss: 0.7386 - acc: 0.7616 - val_loss: 0.6669 - val_acc: 0.8083\n",
      "Epoch 39/100\n",
      "166982/166982 [==============================] - 76s 454us/step - loss: 0.7416 - acc: 0.7616 - val_loss: 0.6550 - val_acc: 0.8069\n",
      "Epoch 40/100\n",
      "166982/166982 [==============================] - 75s 449us/step - loss: 0.7389 - acc: 0.7620 - val_loss: 0.6871 - val_acc: 0.7858\n",
      "Epoch 41/100\n",
      "166982/166982 [==============================] - 75s 448us/step - loss: 0.7339 - acc: 0.7635 - val_loss: 0.6782 - val_acc: 0.7995\n",
      "Epoch 42/100\n",
      "166982/166982 [==============================] - 75s 448us/step - loss: 0.7351 - acc: 0.7632 - val_loss: 0.6583 - val_acc: 0.8081\n",
      "Epoch 43/100\n",
      "166982/166982 [==============================] - 75s 448us/step - loss: 0.7327 - acc: 0.7621 - val_loss: 0.7213 - val_acc: 0.7496\n",
      "Epoch 44/100\n",
      "166982/166982 [==============================] - 75s 448us/step - loss: 0.7312 - acc: 0.7637 - val_loss: 0.6771 - val_acc: 0.8007\n",
      "Epoch 45/100\n",
      "166982/166982 [==============================] - 75s 448us/step - loss: 0.7361 - acc: 0.7628 - val_loss: 0.6627 - val_acc: 0.8074\n",
      "Epoch 46/100\n",
      "166982/166982 [==============================] - 75s 448us/step - loss: 0.7311 - acc: 0.7627 - val_loss: 0.6642 - val_acc: 0.8060\n",
      "Epoch 47/100\n",
      "166982/166982 [==============================] - 75s 448us/step - loss: 0.7257 - acc: 0.7637 - val_loss: 0.6635 - val_acc: 0.8075\n",
      "Epoch 48/100\n",
      "166982/166982 [==============================] - 75s 448us/step - loss: 0.7226 - acc: 0.7637 - val_loss: 0.7035 - val_acc: 0.7735\n",
      "minimum mean absolute error 0.6550372471517204\n"
     ]
    }
   ],
   "source": [
    "regressor = regression_model()\n",
    "early_stopping =EarlyStopping(monitor='val_loss', patience=9)\n",
    "bst_regressor = 'regressor_weights.h5'\n",
    "regressor_checkpoint = ModelCheckpoint(bst_regressor, save_best_only=True, save_weights_only=True)\n",
    "\n",
    "hist_r = regressor.fit(train_x, train_severity,validation_split=0.2,epochs=100, batch_size=256, shuffle=True,callbacks=[regressor_checkpoint,early_stopping])\n",
    "bst_val_score_r = min(hist_r.history['val_loss'])\n",
    "print('minimum mean absolute error',bst_val_score_r)"
   ]
  },
  {
   "cell_type": "code",
   "execution_count": 31,
   "metadata": {},
   "outputs": [
    {
     "name": "stdout",
     "output_type": "stream",
     "text": [
      "52182/52182 [==============================] - 17s 333us/step\n",
      "Mean absolute error on test data  0.6816325635854475\n",
      "Accuracy on Test data  0.8047985895610907\n"
     ]
    }
   ],
   "source": [
    "#testing\n",
    "#severity\n",
    "regressor.load_weights(bst_regressor)\n",
    "severity_scores=regressor.evaluate(x=test_x,y=test_severity,verbose=1)\n",
    "print(\"Mean absolute error on test data \", severity_scores[0])\n",
    "print(\"Accuracy on Test data \",severity_scores[1])"
   ]
  },
  {
   "cell_type": "code",
   "execution_count": 32,
   "metadata": {
    "scrolled": true
   },
   "outputs": [
    {
     "name": "stdout",
     "output_type": "stream",
     "text": [
      "Train on 166982 samples, validate on 41746 samples\n",
      "Epoch 1/100\n",
      "166982/166982 [==============================] - 30s 181us/step - loss: 0.0739 - acc: 0.9686 - val_loss: 0.0239 - val_acc: 0.9912\n",
      "Epoch 2/100\n",
      "166982/166982 [==============================] - 29s 172us/step - loss: 0.0259 - acc: 0.9904 - val_loss: 0.0200 - val_acc: 0.9924\n",
      "Epoch 3/100\n",
      "166982/166982 [==============================] - 29s 173us/step - loss: 0.0228 - acc: 0.9915 - val_loss: 0.0189 - val_acc: 0.9926\n",
      "Epoch 4/100\n",
      "166982/166982 [==============================] - 29s 172us/step - loss: 0.0214 - acc: 0.9920 - val_loss: 0.0183 - val_acc: 0.9929\n",
      "Epoch 5/100\n",
      "166982/166982 [==============================] - 29s 173us/step - loss: 0.0205 - acc: 0.9923 - val_loss: 0.0179 - val_acc: 0.9930\n",
      "Epoch 6/100\n",
      "166982/166982 [==============================] - 29s 173us/step - loss: 0.0200 - acc: 0.9924 - val_loss: 0.0176 - val_acc: 0.9931\n",
      "Epoch 7/100\n",
      "166982/166982 [==============================] - 29s 173us/step - loss: 0.0196 - acc: 0.9925 - val_loss: 0.0174 - val_acc: 0.9932\n",
      "Epoch 8/100\n",
      "166982/166982 [==============================] - 29s 173us/step - loss: 0.0193 - acc: 0.9926 - val_loss: 0.0172 - val_acc: 0.9932\n",
      "Epoch 9/100\n",
      "166982/166982 [==============================] - 29s 173us/step - loss: 0.0191 - acc: 0.9927 - val_loss: 0.0172 - val_acc: 0.9932\n",
      "Epoch 10/100\n",
      "166982/166982 [==============================] - 29s 173us/step - loss: 0.0188 - acc: 0.9928 - val_loss: 0.0170 - val_acc: 0.9933\n",
      "Epoch 11/100\n",
      "166982/166982 [==============================] - 29s 172us/step - loss: 0.0186 - acc: 0.9929 - val_loss: 0.0170 - val_acc: 0.9933\n",
      "Epoch 12/100\n",
      "166982/166982 [==============================] - 29s 173us/step - loss: 0.0186 - acc: 0.9929 - val_loss: 0.0169 - val_acc: 0.9933\n",
      "Epoch 13/100\n",
      "166982/166982 [==============================] - 29s 174us/step - loss: 0.0184 - acc: 0.9930 - val_loss: 0.0168 - val_acc: 0.9934\n",
      "Epoch 14/100\n",
      "166982/166982 [==============================] - 29s 173us/step - loss: 0.0182 - acc: 0.9930 - val_loss: 0.0168 - val_acc: 0.9934\n",
      "Epoch 15/100\n",
      "166982/166982 [==============================] - 29s 173us/step - loss: 0.0180 - acc: 0.9931 - val_loss: 0.0168 - val_acc: 0.9934\n",
      "Epoch 16/100\n",
      "166982/166982 [==============================] - 29s 173us/step - loss: 0.0180 - acc: 0.9931 - val_loss: 0.0167 - val_acc: 0.9934\n",
      "Epoch 17/100\n",
      "166982/166982 [==============================] - 29s 174us/step - loss: 0.0179 - acc: 0.9931 - val_loss: 0.0167 - val_acc: 0.9934\n",
      "Epoch 18/100\n",
      "166982/166982 [==============================] - 29s 174us/step - loss: 0.0178 - acc: 0.9931 - val_loss: 0.0166 - val_acc: 0.9934\n",
      "Epoch 19/100\n",
      "166982/166982 [==============================] - 29s 174us/step - loss: 0.0177 - acc: 0.9932 - val_loss: 0.0165 - val_acc: 0.9934\n",
      "Epoch 20/100\n",
      "166982/166982 [==============================] - 29s 174us/step - loss: 0.0176 - acc: 0.9932 - val_loss: 0.0165 - val_acc: 0.9934\n",
      "Epoch 21/100\n",
      "166982/166982 [==============================] - 29s 174us/step - loss: 0.0176 - acc: 0.9932 - val_loss: 0.0164 - val_acc: 0.9934\n",
      "Epoch 22/100\n",
      "166982/166982 [==============================] - 29s 174us/step - loss: 0.0175 - acc: 0.9933 - val_loss: 0.0166 - val_acc: 0.9934\n",
      "Epoch 23/100\n",
      "166982/166982 [==============================] - 29s 174us/step - loss: 0.0174 - acc: 0.9933 - val_loss: 0.0166 - val_acc: 0.9934\n",
      "Epoch 24/100\n",
      "166982/166982 [==============================] - 29s 174us/step - loss: 0.0174 - acc: 0.9933 - val_loss: 0.0165 - val_acc: 0.9934\n",
      "Epoch 25/100\n",
      "166982/166982 [==============================] - 29s 173us/step - loss: 0.0174 - acc: 0.9933 - val_loss: 0.0166 - val_acc: 0.9934\n",
      "Epoch 26/100\n",
      "166982/166982 [==============================] - 29s 174us/step - loss: 0.0173 - acc: 0.9933 - val_loss: 0.0164 - val_acc: 0.9934\n",
      "Epoch 27/100\n",
      "166982/166982 [==============================] - 29s 174us/step - loss: 0.0173 - acc: 0.9933 - val_loss: 0.0165 - val_acc: 0.9935\n",
      "Epoch 28/100\n",
      "166982/166982 [==============================] - 29s 174us/step - loss: 0.0172 - acc: 0.9933 - val_loss: 0.0164 - val_acc: 0.9935\n",
      "Epoch 29/100\n",
      "166982/166982 [==============================] - 29s 174us/step - loss: 0.0172 - acc: 0.9933 - val_loss: 0.0163 - val_acc: 0.9935\n",
      "Epoch 30/100\n",
      "166982/166982 [==============================] - 29s 174us/step - loss: 0.0171 - acc: 0.9934 - val_loss: 0.0163 - val_acc: 0.9935\n",
      "Epoch 31/100\n",
      "166982/166982 [==============================] - 29s 174us/step - loss: 0.0172 - acc: 0.9933 - val_loss: 0.0164 - val_acc: 0.9934\n",
      "Epoch 32/100\n",
      "166982/166982 [==============================] - 29s 175us/step - loss: 0.0171 - acc: 0.9934 - val_loss: 0.0163 - val_acc: 0.9935\n",
      "Epoch 33/100\n",
      "166982/166982 [==============================] - 29s 174us/step - loss: 0.0170 - acc: 0.9934 - val_loss: 0.0162 - val_acc: 0.9935\n",
      "Epoch 34/100\n",
      "166982/166982 [==============================] - 29s 174us/step - loss: 0.0169 - acc: 0.9934 - val_loss: 0.0163 - val_acc: 0.9935\n",
      "Epoch 35/100\n",
      "166982/166982 [==============================] - 29s 174us/step - loss: 0.0169 - acc: 0.9934 - val_loss: 0.0162 - val_acc: 0.9935\n",
      "Epoch 36/100\n",
      "166982/166982 [==============================] - 29s 175us/step - loss: 0.0168 - acc: 0.9934 - val_loss: 0.0161 - val_acc: 0.9935\n",
      "Epoch 37/100\n",
      "166982/166982 [==============================] - 29s 174us/step - loss: 0.0168 - acc: 0.9935 - val_loss: 0.0162 - val_acc: 0.9935\n",
      "Epoch 38/100\n",
      "166982/166982 [==============================] - 29s 174us/step - loss: 0.0168 - acc: 0.9935 - val_loss: 0.0161 - val_acc: 0.9935\n",
      "Epoch 39/100\n",
      "166982/166982 [==============================] - 29s 174us/step - loss: 0.0168 - acc: 0.9935 - val_loss: 0.0161 - val_acc: 0.9935\n",
      "Epoch 40/100\n",
      "166982/166982 [==============================] - 29s 174us/step - loss: 0.0171 - acc: 0.9933 - val_loss: 0.0163 - val_acc: 0.9935\n",
      "Epoch 41/100\n",
      "166982/166982 [==============================] - 29s 174us/step - loss: 0.0170 - acc: 0.9934 - val_loss: 0.0165 - val_acc: 0.9933\n",
      "Epoch 42/100\n",
      "166982/166982 [==============================] - 29s 174us/step - loss: 0.0173 - acc: 0.9933 - val_loss: 0.0163 - val_acc: 0.9935\n",
      "Epoch 43/100\n",
      "166982/166982 [==============================] - 29s 174us/step - loss: 0.0170 - acc: 0.9934 - val_loss: 0.0163 - val_acc: 0.9935\n",
      "Epoch 44/100\n",
      "166982/166982 [==============================] - 29s 173us/step - loss: 0.0169 - acc: 0.9934 - val_loss: 0.0163 - val_acc: 0.9935\n",
      "Epoch 45/100\n",
      "166982/166982 [==============================] - 29s 174us/step - loss: 0.0168 - acc: 0.9935 - val_loss: 0.0162 - val_acc: 0.9935\n",
      "Epoch 46/100\n",
      "166982/166982 [==============================] - 29s 174us/step - loss: 0.0167 - acc: 0.9935 - val_loss: 0.0162 - val_acc: 0.9935\n",
      "Epoch 47/100\n",
      "166982/166982 [==============================] - 29s 173us/step - loss: 0.0172 - acc: 0.9933 - val_loss: 0.0162 - val_acc: 0.9935\n",
      "Epoch 48/100\n",
      "166982/166982 [==============================] - 29s 174us/step - loss: 0.0171 - acc: 0.9934 - val_loss: 0.0163 - val_acc: 0.9935\n",
      "val_loss 0.01612608349647239\n"
     ]
    }
   ],
   "source": [
    "classifier = classification_model(nb_classification_label)\n",
    "early_stopping =EarlyStopping(monitor='val_loss', patience=9)\n",
    "bst_classifier = 'classifier_weights.h5'\n",
    "classifier_checkpoint = ModelCheckpoint(bst_classifier, save_best_only=True, save_weights_only=True)\n",
    "\n",
    "hist_c = classifier.fit(train_x, train_classify,validation_split=0.2,epochs=100, batch_size=256, shuffle=True,callbacks=[classifier_checkpoint,early_stopping])\n",
    "bst_val_score_c = min(hist_c.history['val_loss'])\n",
    "print('val_loss',bst_val_score_c)"
   ]
  },
  {
   "cell_type": "code",
   "execution_count": 33,
   "metadata": {},
   "outputs": [
    {
     "name": "stdout",
     "output_type": "stream",
     "text": [
      "52182/52182 [==============================] - 9s 166us/step\n",
      "Loss on test data  0.1515411853277415\n",
      "Accuracy on test data  0.9791903235448023\n"
     ]
    }
   ],
   "source": [
    "#testing Classification\n",
    "classifier.load_weights(bst_classifier)\n",
    "classification_scores = classifier.evaluate(test_x, test_classify)\n",
    "print(\"Loss on test data \", classification_scores[0])\n",
    "print(\"Accuracy on test data \",classification_scores[1])"
   ]
  },
  {
   "cell_type": "code",
   "execution_count": 34,
   "metadata": {},
   "outputs": [
    {
     "name": "stdout",
     "output_type": "stream",
     "text": [
      "Train on 166982 samples, validate on 41746 samples\n",
      "Epoch 1/10\n",
      "166982/166982 [==============================] - 31s 188us/step - loss: 0.0276 - acc: 0.9914 - val_loss: 0.0082 - val_acc: 0.9986\n",
      "Epoch 2/10\n",
      "166982/166982 [==============================] - 30s 177us/step - loss: 0.0084 - acc: 0.9986 - val_loss: 0.0077 - val_acc: 0.9986\n",
      "Epoch 3/10\n",
      "166982/166982 [==============================] - 30s 178us/step - loss: 0.0081 - acc: 0.9986 - val_loss: 0.0074 - val_acc: 0.9986\n",
      "Epoch 4/10\n",
      "166982/166982 [==============================] - 30s 177us/step - loss: 0.0077 - acc: 0.9987 - val_loss: 0.0069 - val_acc: 0.9987\n",
      "Epoch 5/10\n",
      "166982/166982 [==============================] - 30s 177us/step - loss: 0.0073 - acc: 0.9987 - val_loss: 0.0065 - val_acc: 0.9988\n",
      "Epoch 6/10\n",
      "166982/166982 [==============================] - 30s 178us/step - loss: 0.0069 - acc: 0.9987 - val_loss: 0.0061 - val_acc: 0.9988\n",
      "Epoch 7/10\n",
      "166982/166982 [==============================] - 30s 178us/step - loss: 0.0066 - acc: 0.9987 - val_loss: 0.0058 - val_acc: 0.9988\n",
      "Epoch 8/10\n",
      "166982/166982 [==============================] - 30s 177us/step - loss: 0.0063 - acc: 0.9988 - val_loss: 0.0055 - val_acc: 0.9988\n",
      "Epoch 9/10\n",
      "166982/166982 [==============================] - 30s 178us/step - loss: 0.0060 - acc: 0.9988 - val_loss: 0.0053 - val_acc: 0.9988\n",
      "Epoch 10/10\n",
      "166982/166982 [==============================] - 30s 178us/step - loss: 0.0058 - acc: 0.9988 - val_loss: 0.0050 - val_acc: 0.9988\n",
      "val_loss 0.005037460078318927\n"
     ]
    }
   ],
   "source": [
    "category = classification_model(nb_category_label)\n",
    "early_stopping =EarlyStopping(monitor='val_loss', patience=9)\n",
    "bst_category = 'category_weights.h5'\n",
    "category_checkpoint = ModelCheckpoint(bst_category, save_best_only=True, save_weights_only=True)\n",
    "\n",
    "hist_c = category.fit(train_x, train_category,validation_split=0.2,epochs=10, batch_size=256, shuffle=True,callbacks=[category_checkpoint,early_stopping])\n",
    "bst_val_score_c = min(hist_c.history['val_loss'])\n",
    "print('val_loss',bst_val_score_c)"
   ]
  },
  {
   "cell_type": "code",
   "execution_count": 35,
   "metadata": {},
   "outputs": [
    {
     "name": "stdout",
     "output_type": "stream",
     "text": [
      "52182/52182 [==============================] - 9s 167us/step\n",
      "Loss on test data  0.017061238498983996\n",
      "Accuracy on test data  0.9982546845002738\n"
     ]
    }
   ],
   "source": [
    "#testing category\n",
    "category.load_weights(bst_category)\n",
    "category_scores = category.evaluate(test_x, test_category)\n",
    "print(\"Loss on test data \", category_scores[0])\n",
    "print(\"Accuracy on test data \",category_scores[1])"
   ]
  },
  {
   "cell_type": "markdown",
   "metadata": {},
   "source": [
    "The model can further be improved by using K-Fold Cross Validation and some Feature Engineering."
   ]
  }
 ],
 "metadata": {
  "kernelspec": {
   "display_name": "statoil",
   "language": "python",
   "name": "statoil"
  },
  "language_info": {
   "codemirror_mode": {
    "name": "ipython",
    "version": 3
   },
   "file_extension": ".py",
   "mimetype": "text/x-python",
   "name": "python",
   "nbconvert_exporter": "python",
   "pygments_lexer": "ipython3",
   "version": "3.6.3"
  }
 },
 "nbformat": 4,
 "nbformat_minor": 2
}
